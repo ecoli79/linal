{
 "cells": [
  {
   "cell_type": "code",
   "execution_count": 1,
   "metadata": {},
   "outputs": [],
   "source": [
    "import numpy as np\n",
    "from scipy.linalg import lu_factor, lu_solve\n",
    "from scipy.linalg import cho_factor, cho_solve\n"
   ]
  },
  {
   "cell_type": "markdown",
   "metadata": {},
   "source": [
    "#### Задача №3\n",
    "Решить СЛАУ\n",
    "$$\\begin{cases}\n",
    "2x_{1}+x_{2}+3x_{3}=1 \\\\\n",
    "11x_{1}+7x_{2}+5x_{3}=-6 \\\\\n",
    "9x_{1}+8x_{2}+4x_{3}=-5\n",
    "\\end{cases}$$\n",
    "методом LU-разложения"
   ]
  },
  {
   "cell_type": "code",
   "execution_count": 5,
   "metadata": {},
   "outputs": [
    {
     "name": "stdout",
     "output_type": "stream",
     "text": [
      "x1=-1\n",
      "x2=0\n",
      "x3=1\n"
     ]
    }
   ],
   "source": [
    "A = np.array([[2,1,3],[11,7,5],[9,8,4]])\n",
    "b = np.array([1,-6,-5])\n",
    "lu, piv = lu_factor(A)\n",
    "x = lu_solve((lu, piv), b) \n",
    "\n",
    "print(f\"x1={int(x[0])}\\nx2={int(x[1])}\\nx3={int(x[2])}\")\n"
   ]
  },
  {
   "cell_type": "markdown",
   "metadata": {},
   "source": [
    "##### Задача №4\n",
    "Решить СЛАУ\n",
    "$$\\begin{cases}\n",
    "81x_{1}-45x_{2}+45x_{3}=531 \\\\\n",
    "-45x_{1}+50x_{2}-15x_{3}=-460 \\\\\n",
    "45x_{1}-15x_{2}+38x_{3}=193\n",
    "\\end{cases}$$\n",
    "методом Холецкого"
   ]
  },
  {
   "cell_type": "code",
   "execution_count": 6,
   "metadata": {},
   "outputs": [
    {
     "name": "stdout",
     "output_type": "stream",
     "text": [
      "x1=6\n",
      "x2=-5\n",
      "x3=-4\n"
     ]
    }
   ],
   "source": [
    "A = np.array([[81,-45,45],[-45,50,-15],[45,-15,38]])\n",
    "c, low = cho_factor(A)\n",
    "x = cho_solve((c, low), [531,-460,193])\n",
    "print(f\"x1={int(x[0])}\\nx2={int(x[1])}\\nx3={int(x[2])}\")"
   ]
  },
  {
   "cell_type": "code",
   "execution_count": null,
   "metadata": {},
   "outputs": [],
   "source": []
  }
 ],
 "metadata": {
  "kernelspec": {
   "display_name": "Python 3",
   "language": "python",
   "name": "python3"
  },
  "language_info": {
   "codemirror_mode": {
    "name": "ipython",
    "version": 3
   },
   "file_extension": ".py",
   "mimetype": "text/x-python",
   "name": "python",
   "nbconvert_exporter": "python",
   "pygments_lexer": "ipython3",
   "version": "3.8.6"
  }
 },
 "nbformat": 4,
 "nbformat_minor": 4
}
